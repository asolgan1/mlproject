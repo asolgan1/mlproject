{
 "cells": [
  {
   "cell_type": "markdown",
   "metadata": {},
   "source": [
    "## COMPARING VADER RESULTS TO BINARY LABELS\n",
    "VADER is a rules based sentiment algorithm. It can be helpful for establishing a baseline for sentiment. The most common use for VADER where it has been found to have significant success is with tweets. The data we are using is mostly reviews, so there is a chance that VADER will be less successful on this data."
   ]
  },
  {
   "cell_type": "code",
   "execution_count": 1,
   "metadata": {},
   "outputs": [],
   "source": [
    "import pandas as pd"
   ]
  },
  {
   "cell_type": "code",
   "execution_count": 2,
   "metadata": {},
   "outputs": [],
   "source": [
    "import pandas as pd\n",
    "#read the data for the imdb reviews\n",
    "with open(\"imdb_labelled.txt\") as dat:\n",
    "    imdb_data = []\n",
    "    imdb_results = []\n",
    "    for line in dat:\n",
    "        imdb_data.append(line[0:len(line)-2])\n",
    "        imdb_results.append(int(line[len(line)-2:len(line)-1]))"
   ]
  },
  {
   "cell_type": "code",
   "execution_count": 3,
   "metadata": {},
   "outputs": [],
   "source": [
    "from vaderSentiment.vaderSentiment import SentimentIntensityAnalyzer"
   ]
  },
  {
   "cell_type": "markdown",
   "metadata": {},
   "source": [
    "VADER's Sentiment Intensity Analyzer works by assigning a score for negative, positive, and neutral events in a phrase. It then uses those scores to create a compound score, and creates a dictionary of those scores. We can convert this numeric compound score into a binary positive or negative sentiment by setting a threshold for the compound score and assignment positive and negative sentiment based on that threshold. We begin with a threshold of 0. In addition, we want to examine the cases where VADER sees no positive or negative values, and see if we can improve our threshold."
   ]
  },
  {
   "cell_type": "code",
   "execution_count": 4,
   "metadata": {},
   "outputs": [
    {
     "name": "stdout",
     "output_type": "stream",
     "text": [
      "VADER got 695 right\n",
      "VADER computed 170 neutral results\n",
      "these neutral results have a true sentiment of 95 negative and 75 positive\n"
     ]
    }
   ],
   "source": [
    "analyzer = SentimentIntensityAnalyzer()\n",
    "vader_predict = []\n",
    "for sentence in imdb_data:\n",
    "    vs = analyzer.polarity_scores(sentence) #calculate polarity scores\n",
    "    if vs['compound'] < 0:\n",
    "        vader_predict.append(0)\n",
    "    elif vs['compound'] > 0:\n",
    "        vader_predict.append(1)\n",
    "    else:\n",
    "        vader_predict.append(2)\n",
    "vader_right_count = 0\n",
    "vader_results_count = [0,0,0]\n",
    "results = imdb_results\n",
    "vposneg = [0,0]\n",
    "vader_right_neut_count = 0\n",
    "for i in range(len(results)-1): #Test accuracy of VADER results\n",
    "    if results[i] == vader_predict[i]:\n",
    "        vader_right_count += 1\n",
    "    vader_results_count[vader_predict[i]] += 1\n",
    "    if vader_predict[i] == 2:\n",
    "        vposneg[results[i]] += 1\n",
    "        if results[i] == 0:\n",
    "            vader_right_neut_count += 1\n",
    "print(\"VADER got \" + str(vader_right_count) + \" right\")\n",
    "print(\"VADER computed \" + str(vader_results_count[2]) + \" neutral results\")\n",
    "print(\"these neutral results have a true sentiment of \" + str(vposneg[0]) + \" negative and \" + str(vposneg[1]) + \" positive\")"
   ]
  },
  {
   "cell_type": "markdown",
   "metadata": {},
   "source": [
    "No seperation of training and testing is necessary, as there is no training involved for VADER. The rules stay the same no matter the input. We can observe that neutral results are more likely to have a true value that is negative instead of positive. This means that if we identify neutral predictions as negative predictions, we increase our accuracy. This will be more clear for the amazon and yelp data sets."
   ]
  },
  {
   "cell_type": "code",
   "execution_count": 5,
   "metadata": {},
   "outputs": [
    {
     "name": "stdout",
     "output_type": "stream",
     "text": [
      "IMDB: VADER got 790 right, for a percent of 0.79\n"
     ]
    }
   ],
   "source": [
    "vader_predict = []\n",
    "for sentence in imdb_data:\n",
    "    vs = analyzer.polarity_scores(sentence)\n",
    "    if vs['compound'] <= 0:\n",
    "        vader_predict.append(0)\n",
    "    elif vs['compound'] > 0:\n",
    "        vader_predict.append(1)\n",
    "    else:\n",
    "        print(vs['compound'])\n",
    "        vader_predict.append(2)\n",
    "vader_right_count = 0\n",
    "vader_results_count = [0,0,0]\n",
    "results = imdb_results\n",
    "vposneg = [0,0]\n",
    "for i in range(len(results)-1):\n",
    "    if results[i] == vader_predict[i]:\n",
    "        vader_right_count += 1\n",
    "    vader_results_count[vader_predict[i]] += 1\n",
    "print(\"IMDB: VADER got \" + str(vader_right_count) + \" right, for a percent of \" + str(vader_right_count/len(results)))"
   ]
  },
  {
   "cell_type": "markdown",
   "metadata": {},
   "source": [
    "We see great improvement in our prediction! We do the same for amazon, first sorting out neutral responses:"
   ]
  },
  {
   "cell_type": "code",
   "execution_count": 6,
   "metadata": {},
   "outputs": [
    {
     "name": "stdout",
     "output_type": "stream",
     "text": [
      "VADER got 699 right, for a percent of 0.699\n",
      "VADER computed 213 neutral results\n",
      "these neutral results have a true sentiment of 144 negative and 69 positive\n"
     ]
    }
   ],
   "source": [
    "with open(\"amazon_cells_labelled.txt\") as dat:\n",
    "    amazon_data = []\n",
    "    amazon_results = []\n",
    "    for line in dat:\n",
    "        amazon_data.append(line[0:len(line)-3])\n",
    "        amazon_results.append(int(line[len(line)-2:len(line)-1]))\n",
    "vader_predict = []\n",
    "for sentence in amazon_data:\n",
    "    vs = analyzer.polarity_scores(sentence)\n",
    "    if vs['compound'] < 0:\n",
    "        vader_predict.append(0)\n",
    "    elif vs['compound'] > 0:\n",
    "        vader_predict.append(1)\n",
    "    else:\n",
    "        vader_predict.append(2)\n",
    "\n",
    "vader_right_count = 0\n",
    "vader_results_count = [0,0,0]\n",
    "results = amazon_results\n",
    "vposneg = [0,0]\n",
    "vader_right_neut_count = 0\n",
    "for i in range(len(results)-1):\n",
    "    if results[i] == vader_predict[i]:\n",
    "        vader_right_count += 1\n",
    "    vader_results_count[vader_predict[i]] += 1\n",
    "    if vader_predict[i] == 2:\n",
    "        vposneg[results[i]] += 1\n",
    "        if results[i] == 0:\n",
    "            vader_right_neut_count += 1\n",
    "print(\"VADER got \" + str(vader_right_count) + \" right, for a percent of \" + str(vader_right_count/len(results)))\n",
    "print(\"VADER computed \" + str(vader_results_count[2]) + \" neutral results\")\n",
    "print(\"these neutral results have a true sentiment of \" + str(vposneg[0]) + \" negative and \" + str(vposneg[1]) + \" positive\")"
   ]
  },
  {
   "cell_type": "markdown",
   "metadata": {},
   "source": [
    "Then re-classifying neutral responses as negative ones."
   ]
  },
  {
   "cell_type": "code",
   "execution_count": 7,
   "metadata": {},
   "outputs": [
    {
     "name": "stdout",
     "output_type": "stream",
     "text": [
      "Amazon: VADER got 843 right, for a percent of 0.843\n"
     ]
    }
   ],
   "source": [
    "vader_predict = []\n",
    "for sentence in amazon_data:\n",
    "    vs = analyzer.polarity_scores(sentence)\n",
    "    if vs['compound'] <= 0:\n",
    "        vader_predict.append(0)\n",
    "    elif vs['compound'] > 0:\n",
    "        vader_predict.append(1)\n",
    "    else:\n",
    "        print(vs['compound'])\n",
    "        vader_predict.append(2)\n",
    "vader_right_count = 0\n",
    "vader_results_count = [0,0,0]\n",
    "results = amazon_results\n",
    "vposneg = [0,0]\n",
    "for i in range(len(results)-1):\n",
    "    if results[i] == vader_predict[i]:\n",
    "        vader_right_count += 1\n",
    "    vader_results_count[vader_predict[i]] += 1\n",
    "print(\"Amazon: VADER got \" + str(vader_right_count) + \" right, for a percent of \" + str(vader_right_count/len(results)))"
   ]
  },
  {
   "cell_type": "code",
   "execution_count": 8,
   "metadata": {},
   "outputs": [],
   "source": [
    "with open(\"yelp_labelled.txt\") as dat:\n",
    "    yelp_data = []\n",
    "    yelp_results = []\n",
    "    for line in dat:\n",
    "        yelp_data.append(line[0:len(line)-3])\n",
    "        yelp_results.append(int(line[len(line)-2:len(line)-1]))\n",
    "vader_predict = []\n",
    "for sentence in yelp_data:\n",
    "    vs = analyzer.polarity_scores(sentence)\n",
    "    if vs['compound'] < 0:\n",
    "        vader_predict.append(0)\n",
    "    elif vs['compound'] > 0:\n",
    "        vader_predict.append(1)\n",
    "    else:\n",
    "        vader_predict.append(2)"
   ]
  },
  {
   "cell_type": "code",
   "execution_count": 9,
   "metadata": {},
   "outputs": [
    {
     "name": "stdout",
     "output_type": "stream",
     "text": [
      "VADER got 654 right, for a percent of 0.654\n",
      "VADER computed 235 neutral results\n",
      "these neutral results have a true sentiment of 162 negative and 73 positive\n"
     ]
    }
   ],
   "source": [
    "vader_right_count = 0\n",
    "vader_results_count = [0,0,0]\n",
    "results = yelp_results\n",
    "vposneg = [0,0]\n",
    "vader_right_neut_count = 0\n",
    "for i in range(len(results)-1):\n",
    "    if results[i] == vader_predict[i]:\n",
    "        vader_right_count += 1\n",
    "    vader_results_count[vader_predict[i]] += 1\n",
    "    if vader_predict[i] == 2:\n",
    "        vposneg[results[i]] += 1\n",
    "        if results[i] == 0:\n",
    "            vader_right_neut_count += 1\n",
    "print(\"VADER got \" + str(vader_right_count) + \" right, for a percent of \" + str(vader_right_count/len(results)))\n",
    "print(\"VADER computed \" + str(vader_results_count[2]) + \" neutral results\")\n",
    "print(\"these neutral results have a true sentiment of \" + str(vposneg[0]) + \" negative and \" + str(vposneg[1]) + \" positive\")"
   ]
  },
  {
   "cell_type": "markdown",
   "metadata": {},
   "source": [
    "We can come up with an explanation for why this might occur. Some examples of phrases VADER considers neutral are\n",
    "\"We got the food and apparently they have never heard of salt and the batter on the fish was chewy.\"\n",
    "\"The deal included 5 tastings and 2 drinks, and Jeff went above and beyond what we expected.\"\n",
    "\"It took over 30 min to get their milkshake, which was nothing more than chocolate milk.\"\n",
    "These are very specific in their critisism or praise. It would make sense that people will point out specific things that went wrong in a negative review but be much more general in a positive one."
   ]
  },
  {
   "cell_type": "code",
   "execution_count": 10,
   "metadata": {},
   "outputs": [
    {
     "name": "stdout",
     "output_type": "stream",
     "text": [
      "YELP: VADER got 816 right, for a percent of 0.816\n"
     ]
    }
   ],
   "source": [
    "vader_predict = []\n",
    "for sentence in yelp_data:\n",
    "    vs = analyzer.polarity_scores(sentence)\n",
    "    if vs['compound'] <= 0:\n",
    "        vader_predict.append(0)\n",
    "    elif vs['compound'] > 0:\n",
    "        vader_predict.append(1)\n",
    "    else:\n",
    "        print(vs['compound'])\n",
    "        vader_predict.append(2)\n",
    "vader_right_count = 0\n",
    "vader_results_count = [0,0,0]\n",
    "results = yelp_results\n",
    "vposneg = [0,0]\n",
    "for i in range(len(results)-1):\n",
    "    if results[i] == vader_predict[i]:\n",
    "        vader_right_count += 1\n",
    "    vader_results_count[vader_predict[i]] += 1\n",
    "print(\"YELP: VADER got \" + str(vader_right_count) + \" right, for a percent of \" + str(vader_right_count/len(results)))"
   ]
  },
  {
   "cell_type": "markdown",
   "metadata": {},
   "source": [
    "Yelp also had good success with this method."
   ]
  }
 ],
 "metadata": {
  "kernelspec": {
   "display_name": "Python 3",
   "language": "python",
   "name": "python3"
  },
  "language_info": {
   "codemirror_mode": {
    "name": "ipython",
    "version": 3
   },
   "file_extension": ".py",
   "mimetype": "text/x-python",
   "name": "python",
   "nbconvert_exporter": "python",
   "pygments_lexer": "ipython3",
   "version": "3.8.3"
  }
 },
 "nbformat": 4,
 "nbformat_minor": 4
}
